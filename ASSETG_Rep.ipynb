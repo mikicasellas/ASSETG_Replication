{
 "cells": [
  {
   "cell_type": "code",
   "execution_count": null,
   "metadata": {},
   "outputs": [],
   "source": [
    "import wrds\n",
    "import pandas as pd\n",
    "import matplotlib.pyplot as plt\n",
    "import numpy as np\n",
    "import datetime as dt"
   ]
  },
  {
   "cell_type": "code",
   "execution_count": null,
   "metadata": {},
   "outputs": [],
   "source": [
    "conn = wrds.Connection()"
   ]
  },
  {
   "cell_type": "code",
   "execution_count": null,
   "metadata": {},
   "outputs": [],
   "source": [
    "query = \"\"\"\n",
    "SELECT gvkey, datadate, at\n",
    "FROM comp.funda\n",
    "WHERE indfmt='INDL' \n",
    "AND datafmt='STD' \n",
    "AND popsrc='D' \n",
    "AND consol='C' \n",
    "AND datadate >= '1961-12-31' \n",
    "AND datadate <= '2002-12-31'\n",
    "\"\"\""
   ]
  },
  {
   "cell_type": "code",
   "execution_count": null,
   "metadata": {},
   "outputs": [],
   "source": [
    "data = conn.raw_sql(query)"
   ]
  },
  {
   "cell_type": "code",
   "execution_count": null,
   "metadata": {},
   "outputs": [],
   "source": [
    "data['datadate'] = pd.to_datetime(data['datadate'])"
   ]
  },
  {
   "cell_type": "code",
   "execution_count": null,
   "metadata": {},
   "outputs": [],
   "source": [
    "data = data.dropna()\n",
    "data = data.sort_values(['gvkey','datadate'])\n",
    "data = data[data['datadate'].dt.month==12]"
   ]
  },
  {
   "cell_type": "code",
   "execution_count": null,
   "metadata": {},
   "outputs": [],
   "source": [
    "def calculate_assetg(group):\n",
    "    # Shift within the group\n",
    "    group['at_lag2'] = group['at'].shift(2)\n",
    "    group['at_lag1'] = group['at'].shift(1)\n",
    "\n",
    "    # Calculate ASSETG\n",
    "    group['ASSETG'] = (group['at_lag1'] - group['at_lag2']) / group['at_lag2']\n",
    "    return group"
   ]
  },
  {
   "cell_type": "code",
   "execution_count": null,
   "metadata": {},
   "outputs": [],
   "source": [
    "filtered_data = data.groupby('gvkey').apply(calculate_assetg)\n",
    "#filtered_data['year'] = pd.to_datetime(filtered_data['datadate']).dt.year\n",
    "filtered_data = filtered_data[(filtered_data['at_lag1'] != 0) & (filtered_data['at_lag2'] != 0)]"
   ]
  },
  {
   "cell_type": "code",
   "execution_count": null,
   "metadata": {},
   "outputs": [],
   "source": [
    "annual_stats = filtered_data.groupby('datadate')['ASSETG'].agg(['mean', 'median', 'std'])\n",
    "annual_stats.dropna()"
   ]
  },
  {
   "cell_type": "code",
   "execution_count": null,
   "metadata": {},
   "outputs": [],
   "source": [
    "# Plotting\n",
    "plt.figure(figsize=(12, 6))\n",
    "\n",
    "# Plot mean and median\n",
    "plt.plot(annual_stats.index, annual_stats['mean'] , label='Average Asset Growth Rate', color='blue')\n",
    "plt.plot(annual_stats.index, annual_stats['median'], label='Median Asset Growth Rate', color='green')\n",
    "plt.plot(annual_stats.index, annual_stats['std'], label='std', color='red')\n",
    "\n",
    "# Labels and Title\n",
    "plt.xlabel('Year')\n",
    "plt.ylabel('Asset Growth Rate')\n",
    "plt.title('Average and Median Annual Asset Growth Rates (1968-2002) with Standard Deviation')\n",
    "plt.legend()\n",
    "\n",
    "# Show the plot\n",
    "plt.grid(True)\n",
    "plt.show()"
   ]
  }
 ],
 "metadata": {
  "language_info": {
   "name": "python"
  }
 },
 "nbformat": 4,
 "nbformat_minor": 2
}
